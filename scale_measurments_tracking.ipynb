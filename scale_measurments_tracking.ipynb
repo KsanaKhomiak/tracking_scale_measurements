{
 "cells": [
  {
   "cell_type": "code",
   "execution_count": 8,
   "metadata": {},
   "outputs": [],
   "source": [
    "import numpy as np\n",
    "import cv2\n",
    "\n",
    "def gammaCorrection(src, gamma):\n",
    "    invGamma = 1 / gamma\n",
    "    table = [((i / 255) ** invGamma) * 255 for i in range(256)]\n",
    "    table = np.array(table, np.uint8)\n",
    "    return cv2.LUT(src, table)\n",
    "\n",
    "def get_binary_image(frame):\n",
    "    enhanced_frame = gammaCorrection(frame, 2)\n",
    "    gray_frame = cv2.GaussianBlur(cv2.cvtColor(enhanced_frame,\n",
    "                                               cv2.COLOR_RGB2GRAY),(5,5),0)\n",
    "    threshold = cv2.threshold(gray_frame, 200,255, cv2.THRESH_BINARY)[1]\n",
    "    return (enhanced_frame, threshold)\n",
    "\n",
    "def display_tracking_window_axis_center(frame,x,y,tw_width,tw_height, rows):\n",
    "        bounding_box = cv2.rectangle(frame,\n",
    "                  (x, y),\n",
    "                  (x + tw_width, y + tw_height),\n",
    "                  (255, 0, 0), 1)\n",
    "        horisontal_axis = cv2.line(frame,\n",
    "                        (x + int(tw_width/2), 0),\n",
    "                        (x + int(tw_width/2), rows),\n",
    "                        (255, 0, 0), 1)\n",
    "        object_center = cv2.circle(frame,\n",
    "                                (x + int(tw_width/2), y + int(tw_height/2)),\n",
    "                                2, (0,0,255),2)\n",
    "        \n",
    "        return (bounding_box, horisontal_axis,object_center)"
   ]
  },
  {
   "cell_type": "code",
   "execution_count": 9,
   "metadata": {},
   "outputs": [],
   "source": [
    "video = cv2.VideoCapture(r'.\\input_data\\2023_03_14_PTM.avi')\n",
    "\n",
    "roi_start_x = 315\n",
    "roi_end_x = 370\n",
    "roi_start_y = 217\n",
    "roi_end_y = 400\n",
    "\n",
    "tw_start_point_x = 30\n",
    "tw_start_point_y = 0\n",
    "tw_start_width = 25\n",
    "tw_start_height = 60\n",
    "term_criteria= (cv2.TERM_CRITERIA_EPS | cv2.TERM_CRITERIA_COUNT, 10,1)\n",
    "\n",
    "while True:\n",
    "    full_frame = video.read()[1]\n",
    "    frame = full_frame[roi_start_x:roi_end_x, roi_start_y:roi_end_y]  \n",
    "    threshold = get_binary_image(frame)[1]\n",
    "    track_window = cv2.meanShift(threshold,\n",
    "                                 (tw_start_point_x, tw_start_point_y,\n",
    "                                  tw_start_width, tw_start_height),\n",
    "                                  term_criteria)[1]\n",
    "    tw_start_point_x, tw_start_point_y, tw_width, tw_height = track_window\n",
    "    rows, cols, _bands = frame.shape\n",
    "\n",
    "    bounding_box, horisontal_axis, object_center = display_tracking_window_axis_center(\n",
    "        frame,tw_start_point_x, tw_start_point_y,tw_width,tw_height,rows)\n",
    "\n",
    "    cv2.imshow('Frame', frame)\n",
    "    key = cv2.waitKey(100) #for framerate 20, normal playback is 100\n",
    "    if key == 27:\n",
    "        break\n",
    "video.release()\n",
    "cv2.destroyAllWindows()"
   ]
  }
 ],
 "metadata": {
  "kernelspec": {
   "display_name": "base",
   "language": "python",
   "name": "python3"
  },
  "language_info": {
   "codemirror_mode": {
    "name": "ipython",
    "version": 3
   },
   "file_extension": ".py",
   "mimetype": "text/x-python",
   "name": "python",
   "nbconvert_exporter": "python",
   "pygments_lexer": "ipython3",
   "version": "3.7.1"
  },
  "orig_nbformat": 4
 },
 "nbformat": 4,
 "nbformat_minor": 2
}
